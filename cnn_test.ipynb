{
 "cells": [
  {
   "cell_type": "code",
   "execution_count": 18,
   "metadata": {},
   "outputs": [],
   "source": [
    "import os\n",
    "from dataset_utils import *\n",
    "\n",
    "train_path = os.path.join(IMDB_DATA_PATH, \"train\")\n",
    "test_path  = os.path.join(IMDB_DATA_PATH, \"test\")\n",
    "\n",
    "\"\"\"\n",
    "For details on implementation of dataset loading and other utils check out dataset_utils.py\n",
    "\n",
    "CONVENTION: label 0 --> negative review\n",
    "            label 1 --> positive review\n",
    "\"\"\"\n",
    "\n",
    "#Main training set - Large Movie Review Dataset (IMDB)\n",
    "((imdb_train_texts, imdb_train_labels), (imdb_test_texts, imdb_test_labels)) = load_imdb_dataset(train_path=train_path, test_path=test_path)\n",
    "\n",
    "#Review Polarity Datasets\n",
    "(v1_texts, v1_labels), (v2_texts, v2_labels) = load_polarity(v1_path=POLARITY_v1_DATA_PATH, v2_path=POLARITY_v2_DATA_PATH)\n",
    "\n",
    "#Rotten tomatoes critic dataset\n",
    "rotten_train_texts, rotten_train_labels, short_rotten_test, random_rotten_test, pos_rotten_test, neg_rotten_test = load_rotten_split(ROTTEN_PATH, n_train_samples=12000)"
   ]
  },
  {
   "cell_type": "code",
   "execution_count": 19,
   "metadata": {},
   "outputs": [
    {
     "name": "stdout",
     "output_type": "stream",
     "text": [
      "Training set size: 44143\n"
     ]
    }
   ],
   "source": [
    "from sklearn.model_selection import train_test_split\n",
    "\n",
    "train_texts_v1, test_texts_v1, train_labels_v1, test_labels_v1 = train_test_split(v1_texts, v1_labels, test_size=0.33, random_state=42)\n",
    "\n",
    "train_texts = imdb_train_texts + rotten_train_texts + train_texts_v1\n",
    "train_labels = imdb_train_labels + rotten_train_labels + train_labels_v1\n",
    "\n",
    "seed=10\n",
    "random.seed(seed)\n",
    "random.shuffle(train_texts)\n",
    "random.seed(seed)\n",
    "random.shuffle(train_labels)\n",
    "\n",
    "print(f\"Training set size: {len(train_texts)}\")"
   ]
  },
  {
   "cell_type": "code",
   "execution_count": 20,
   "metadata": {},
   "outputs": [],
   "source": [
    "from sklearn.feature_extraction.text import CountVectorizer\n",
    "\n",
    "vectorizer = CountVectorizer(ngram_range=(1,2), lowercase=True, max_features=50000)\n",
    "vectorizer.fit(train_texts)\n",
    "\n",
    "vocab = vectorizer.vocabulary_\n",
    "remapped_vocab = {ngram: idx for idx, (ngram, _) in enumerate(sorted(vocab.items(),key=lambda x: x[1]))}\n",
    "analyzer = vectorizer.build_analyzer()"
   ]
  },
  {
   "cell_type": "code",
   "execution_count": 21,
   "metadata": {},
   "outputs": [],
   "source": [
    "import torch\n",
    "from torch import nn\n",
    "import torch.nn.functional as F\n",
    "\n",
    "sequence_target_length = 350\n",
    "vocab_size = len(remapped_vocab)\n",
    "embedding_dim = 400\n",
    "out_channels = 250\n",
    "kernel_size = 4\n",
    "\n",
    "class SentimentCNN(nn.Module):\n",
    "    def __init__(self):\n",
    "        super().__init__()\n",
    "        \n",
    "        self.embedding = nn.Embedding(num_embeddings=vocab_size, embedding_dim=embedding_dim)\n",
    "        self.conv = nn.Conv1d(in_channels=embedding_dim, out_channels=out_channels, kernel_size=kernel_size)\n",
    "        self.pool = nn.MaxPool1d(kernel_size=2)\n",
    "        self.flatten = nn.Flatten()\n",
    "        \n",
    "        self.linear_stack = nn.Sequential(\n",
    "            nn.Linear(in_features=out_channels, out_features=100),\n",
    "            nn.ReLU(),\n",
    "            nn.Linear(in_features=100, out_features=1)\n",
    "        )\n",
    "        self.fc1 = nn.Linear(in_features=out_channels, out_features=1)\n",
    "    def forward(self, x):\n",
    "        \n",
    "        embed = self.embedding(x)\n",
    "        embed = embed.permute(0,2,1)\n",
    "        conved = self.conv(embed)\n",
    "        pooled = self.pool(conved)\n",
    "        pooled, _ = pooled.max(dim=2)\n",
    "        return self.fc1(pooled)"
   ]
  },
  {
   "cell_type": "code",
   "execution_count": 22,
   "metadata": {},
   "outputs": [],
   "source": [
    "def vectorize_text(text, analyzer, vocab):\n",
    "    analyzed_list = analyzer(text)\n",
    "\n",
    "    unigrams = [t for t in analyzed_list if len(t.split()) == 1]\n",
    "    bigrams = [t for t in analyzed_list if len(t.split()) == 2]\n",
    "    \n",
    "    bigram_indices = [vocab.get(bigram) for bigram in bigrams]\n",
    "    \n",
    "    filled = [0 if idx is None else idx for idx in bigram_indices]\n",
    "    \n",
    "    return torch.tensor(filled)"
   ]
  },
  {
   "cell_type": "code",
   "execution_count": 23,
   "metadata": {},
   "outputs": [],
   "source": [
    "# for idx in v:\n",
    "#     if idx in remapped_vocab.values():\n",
    "#         print(list(remapped_vocab.keys())[list(remapped_vocab.values()).index(idx)])"
   ]
  },
  {
   "cell_type": "code",
   "execution_count": 24,
   "metadata": {},
   "outputs": [],
   "source": [
    "vectorized_train = [vectorize_text(text, analyzer=analyzer, vocab=remapped_vocab) for text in train_texts]"
   ]
  },
  {
   "cell_type": "code",
   "execution_count": 25,
   "metadata": {},
   "outputs": [],
   "source": [
    "def pad_sequences(tensor_list, target_length, padding_value=0):\n",
    "    padded_tensors = []\n",
    "    \n",
    "    for tensor in tensor_list:\n",
    "        pad_length = target_length - len(tensor)\n",
    "        padded_tensor = F.pad(tensor, (0, pad_length), value=padding_value)\n",
    "        \n",
    "        padded_tensors.append(padded_tensor.to(dtype=torch.int64))\n",
    "        \n",
    "    return torch.stack(padded_tensors)"
   ]
  },
  {
   "cell_type": "code",
   "execution_count": 26,
   "metadata": {},
   "outputs": [],
   "source": [
    "padded_train = pad_sequences(vectorized_train, target_length=sequence_target_length)"
   ]
  },
  {
   "cell_type": "code",
   "execution_count": 27,
   "metadata": {},
   "outputs": [
    {
     "name": "stdout",
     "output_type": "stream",
     "text": [
      "Using: cuda\n"
     ]
    }
   ],
   "source": [
    "device = 'cuda' if torch.cuda.is_available() else 'cpu'\n",
    "\n",
    "print(f\"Using: {device}\")"
   ]
  },
  {
   "cell_type": "code",
   "execution_count": 28,
   "metadata": {},
   "outputs": [],
   "source": [
    "from torch.utils.data import Dataset, DataLoader\n",
    "\n",
    "class TrainDataset(Dataset):\n",
    "    def __init__(self, tensor_list, train_labels):\n",
    "        self.X = tensor_list\n",
    "        self.y = torch.tensor(train_labels, dtype=torch.float32).unsqueeze(1)\n",
    "        \n",
    "    def __getitem__(self, idx):\n",
    "        return self.X[idx], self.y[idx]\n",
    "    \n",
    "    def __len__(self):\n",
    "        return len(self.X)\n",
    "\n",
    "#train_dataset = TrainDataset(tensor_list=padded_train, train_labels=train_labels)\n",
    "\n",
    "#train_dataloader = DataLoader(dataset=train_dataset, batch_size=32, shuffle=True)"
   ]
  },
  {
   "cell_type": "code",
   "execution_count": 29,
   "metadata": {},
   "outputs": [],
   "source": [
    "y=torch.tensor(train_labels, dtype=torch.float32).unsqueeze(1)"
   ]
  },
  {
   "cell_type": "code",
   "execution_count": 30,
   "metadata": {},
   "outputs": [
    {
     "name": "stdout",
     "output_type": "stream",
     "text": [
      "  epoch    train_loss    valid_acc    valid_loss    cp      dur\n",
      "-------  ------------  -----------  ------------  ----  -------\n",
      "      1        \u001b[36m0.6146\u001b[0m       \u001b[32m0.6975\u001b[0m        \u001b[35m0.5867\u001b[0m     +  22.2323\n",
      "      2        \u001b[36m0.3999\u001b[0m       \u001b[32m0.7209\u001b[0m        0.5877        21.5989\n",
      "      3        \u001b[36m0.1901\u001b[0m       \u001b[32m0.7286\u001b[0m        0.7116        21.6299\n",
      "      4        \u001b[36m0.0830\u001b[0m       \u001b[32m0.7379\u001b[0m        0.7733        21.6816\n",
      "      5        \u001b[36m0.0786\u001b[0m       \u001b[32m0.7428\u001b[0m        0.9660        21.6358\n",
      "      6        \u001b[36m0.0466\u001b[0m       \u001b[32m0.7464\u001b[0m        0.9318        21.6135\n",
      "      7        \u001b[36m0.0455\u001b[0m       0.7440        0.9228        21.6552\n",
      "      8        \u001b[36m0.0452\u001b[0m       \u001b[32m0.7481\u001b[0m        0.9694        21.7613\n"
     ]
    },
    {
     "data": {
      "text/plain": [
       "<class 'skorch.classifier.NeuralNetClassifier'>[initialized](\n",
       "  module_=SentimentCNN(\n",
       "    (embedding): Embedding(50000, 400)\n",
       "    (conv): Conv1d(400, 250, kernel_size=(4,), stride=(1,))\n",
       "    (pool): MaxPool1d(kernel_size=2, stride=2, padding=0, dilation=1, ceil_mode=False)\n",
       "    (flatten): Flatten(start_dim=1, end_dim=-1)\n",
       "    (linear_stack): Sequential(\n",
       "      (0): Linear(in_features=250, out_features=100, bias=True)\n",
       "      (1): ReLU()\n",
       "      (2): Linear(in_features=100, out_features=1, bias=True)\n",
       "    )\n",
       "    (fc1): Linear(in_features=250, out_features=1, bias=True)\n",
       "  ),\n",
       ")"
      ]
     },
     "execution_count": 30,
     "metadata": {},
     "output_type": "execute_result"
    }
   ],
   "source": [
    "from skorch import NeuralNetClassifier\n",
    "from skorch.callbacks import Checkpoint, LoadInitState, LRScheduler\n",
    "from torch.optim.lr_scheduler import ReduceLROnPlateau, LinearLR, StepLR, ExponentialLR\n",
    "\n",
    "model_dirs = sorted(os.listdir('models'))\n",
    "\n",
    "#top directory regards vectorizer settings\n",
    "vect_dir_idx = 4\n",
    "topdir = model_dirs[vect_dir_idx]\n",
    "\n",
    "#experiments within chosen vectorizer settings directory\n",
    "experiments = sorted(os.listdir(f'models/{topdir}'))\n",
    "\n",
    "if len(experiments) == 0:\n",
    "    curr_number = 1\n",
    "else:\n",
    "    curr_number = int(experiments[-1][-1])\n",
    "    \n",
    "next_number = curr_number + 1\n",
    "\n",
    "dirname_curr=f'models/{topdir}/exp{curr_number}'\n",
    "f_pickle_curr=f'exp{curr_number}.pkl'\n",
    "\n",
    "dirname_next=f'models/{topdir}/exp{next_number}'\n",
    "f_pickle_next=f'exp{next_number}.pkl'\n",
    "\n",
    "#checkpoints for saving the model during training. cp_current corresponds to the last experiment.\n",
    "#When we switch the callback to cp_next, this starts a new experiment\n",
    "\n",
    "cp_current = Checkpoint(monitor='valid_loss_best', dirname=dirname_curr, f_pickle=f_pickle_curr)\n",
    "cp_next    = Checkpoint(monitor='valid_loss_best', dirname=dirname_next, f_pickle=f_pickle_next)\n",
    "load_state = LoadInitState(cp_current)\n",
    "\n",
    "lr_scheduler = ('lr_scheduler', LRScheduler(policy=ReduceLROnPlateau, mode='min', factor=0.1, patience=5))\n",
    "lr_sched_step = ('lr_scheduler', LRScheduler(policy=StepLR, step_size=10, gamma=0.05))\n",
    "lr_sched_linear = ('lr_scheduler', LRScheduler(policy=LinearLR, start_factor=0.3, end_factor=1, total_iters=7))\n",
    "#lr_sched_exp = ('lr_scheduler', LRScheduler(policy=ExponentialLR, g))\n",
    "\n",
    "net = NeuralNetClassifier(\n",
    "    module=SentimentCNN,\n",
    "    lr = 0.001,\n",
    "    criterion=nn.BCEWithLogitsLoss,   \n",
    "    device=device,\n",
    "    max_epochs=15,\n",
    "    optimizer=torch.optim.Adam,\n",
    "    #optimizer__momentum=0.99,\n",
    "    #optimizer__weight_decay=0.001,\n",
    "    batch_size=64,\n",
    "    iterator_train__shuffle=True,\n",
    "    callbacks = [cp_current, load_state],\n",
    "    #callbacks = [cp_next],\n",
    "    #callbacks=[cp_current]\n",
    ")\n",
    "\n",
    "net.fit(X=padded_train, y=y)"
   ]
  },
  {
   "cell_type": "code",
   "execution_count": null,
   "metadata": {},
   "outputs": [],
   "source": []
  }
 ],
 "metadata": {
  "kernelspec": {
   "display_name": "venv",
   "language": "python",
   "name": "python3"
  },
  "language_info": {
   "codemirror_mode": {
    "name": "ipython",
    "version": 3
   },
   "file_extension": ".py",
   "mimetype": "text/x-python",
   "name": "python",
   "nbconvert_exporter": "python",
   "pygments_lexer": "ipython3",
   "version": "3.11.2"
  }
 },
 "nbformat": 4,
 "nbformat_minor": 2
}
